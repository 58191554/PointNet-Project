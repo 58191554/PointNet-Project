{
 "cells": [
  {
   "cell_type": "code",
   "execution_count": 88,
   "metadata": {},
   "outputs": [],
   "source": [
    "import os\n",
    "import torch\n",
    "import torch.nn as nn\n",
    "import torch.nn.functional as F\n",
    "import torch.optim as optim\n",
    "import numpy as np\n",
    "import matplotlib.pyplot as plt\n",
    "from mpl_toolkits.mplot3d import Axes3D\n",
    "from DataSet import PointDataSet\n",
    "import random\n",
    "import math\n",
    "import tqdm"
   ]
  },
  {
   "cell_type": "code",
   "execution_count": 89,
   "metadata": {},
   "outputs": [
    {
     "name": "stdout",
     "output_type": "stream",
     "text": [
      "4899\n",
      "{'bed': 0, 'monitor': 1, 'desk': 3, 'chair': 4, 'dresser': 5, 'toilet': 6, 'sofa': 7, 'table': 8, 'night_stand': 9, 'bathtub': 11}\n"
     ]
    }
   ],
   "source": [
    "pointData = PointDataSet('ModelNet10/')\n",
    "print(len(pointData))\n",
    "print(pointData.class_to_idx)"
   ]
  },
  {
   "attachments": {},
   "cell_type": "markdown",
   "metadata": {},
   "source": [
    "## Visualize Data"
   ]
  },
  {
   "cell_type": "code",
   "execution_count": null,
   "metadata": {},
   "outputs": [],
   "source": [
    "def plot3d(points):\n",
    "  fig = plt.figure()\n",
    "  ax = fig.add_subplot(111, projection='3d')\n",
    "\n",
    "  # get xyz coordinate data\n",
    "  x = points[:, 0]\n",
    "  y = points[:, 1]\n",
    "  z = points[:, 2]\n",
    "\n",
    "  # plot vertices\n",
    "  ax.scatter(x, y, z, c='b', marker='o', s=1)  # c: 点的颜色，marker: 点的形状，s: 点的大小\n",
    "\n",
    "  # set axis label\n",
    "  ax.set_xlabel('X')\n",
    "  ax.set_ylabel('Y')\n",
    "  ax.set_zlabel('Z')\n",
    "\n",
    "  plt.show()\n",
    "\n",
    "points, label = pointData[1878]  \n",
    "plot3d(points)\n",
    "print(pointData.idx_to_class[label])"
   ]
  },
  {
   "attachments": {},
   "cell_type": "markdown",
   "metadata": {},
   "source": [
    "### augment the data"
   ]
  },
  {
   "cell_type": "code",
   "execution_count": null,
   "metadata": {},
   "outputs": [],
   "source": [
    "def pre_process(pointcloud, normalize = True, rotation = False, add_noise = True):\n",
    "    # normalize\n",
    "    if normalize:\n",
    "        pointcloud = pointcloud - np.mean(pointcloud, axis=0) \n",
    "        pointcloud /= np.max(np.linalg.norm(pointcloud, axis=1))\n",
    "\n",
    "    if rotation:\n",
    "        # rotation around z-axis\n",
    "        theta = random.random() * 2. * math.pi # rotation angle\n",
    "        rot_matrix = np.array([[ math.cos(theta), -math.sin(theta),    0],\n",
    "                            [ math.sin(theta),  math.cos(theta),    0],\n",
    "                            [0,                             0,      1]])\n",
    "\n",
    "        pointcloud = rot_matrix.dot(pointcloud.T).T\n",
    "\n",
    "    if add_noise:\n",
    "        # add some noise\n",
    "        noise = np.random.normal(0, 0.02, (pointcloud.shape))\n",
    "        noisy_pointcloud = pointcloud + noise\n",
    "        return noisy_pointcloud\n",
    "\n",
    "points, label = pointData[1878] \n",
    "processed_points = pre_process(points, True, True, True) \n",
    "plot3d(processed_points)\n",
    "print(pointData.idx_to_class[label])"
   ]
  },
  {
   "attachments": {},
   "cell_type": "markdown",
   "metadata": {},
   "source": [
    "### Load train data and test data"
   ]
  },
  {
   "cell_type": "code",
   "execution_count": null,
   "metadata": {},
   "outputs": [],
   "source": [
    "train_ratio = 0.8\n",
    "test_ratio = 0.2\n",
    "batch_size = 16\n",
    "\n",
    "train_size = int(train_ratio * len(pointData))\n",
    "test_size = len(pointData) - train_size\n",
    "\n",
    "train_dataset, test_dataset = torch.utils.data.random_split(pointData, [train_size, test_size])\n",
    "\n",
    "train_dataloader = torch.utils.data.DataLoader(train_dataset, batch_size=batch_size, shuffle=True)\n",
    "test_dataloader = torch.utils.data.DataLoader(test_dataset, batch_size=batch_size, shuffle=False)"
   ]
  },
  {
   "attachments": {},
   "cell_type": "markdown",
   "metadata": {},
   "source": [
    "# The PointNet Model"
   ]
  },
  {
   "cell_type": "code",
   "execution_count": null,
   "metadata": {},
   "outputs": [],
   "source": [
    "class MLPClassifier(nn.Module):\n",
    "  def __init__(self, input_shape, hidden_dims, num_classes=10, activation = nn.ReLU):\n",
    "    super(MLPClassifier, self).__init__()\n",
    "    self.input_shape = input_shape\n",
    "    self.input_dim = input_shape[0] * input_shape[1]\n",
    "    self.hidden_dims = hidden_dims\n",
    "    self.num_classes = num_classes\n",
    "    self.activation = activation\n",
    "    self.fc_layers = nn.ModuleList()\n",
    "    self.build_fc_layers()\n",
    "      \n",
    "  def build_fc_layers(self):\n",
    "    prev_dim = self.input_dim\n",
    "    for layer_dim in self.hidden_dims:\n",
    "      self.fc_layers.append(nn.Linear(prev_dim, layer_dim))\n",
    "      prev_dim = layer_dim\n",
    "    self.output_layer = nn.Linear(prev_dim, self.num_classes) # output layer\n",
    "\n",
    "  def forward(self, x):\n",
    "    x = x.view(-1, self.input_dim)\n",
    "    for fc_layer in self.fc_layers:\n",
    "      x = torch.relu(fc_layer(x))\n",
    "    x = self.output_layer(x)\n",
    "    x = F.softmax(x, dim=1)\n",
    "    return x"
   ]
  },
  {
   "attachments": {},
   "cell_type": "markdown",
   "metadata": {},
   "source": [
    "### Train the simple MLP Classifier"
   ]
  },
  {
   "cell_type": "code",
   "execution_count": null,
   "metadata": {},
   "outputs": [],
   "source": [
    "hidden_sizes = [1000, 500, 100]\n",
    "num_epochs = 100\n",
    "model = MLPClassifier(input_shape=[3000,3], hidden_dims=hidden_sizes, num_classes=10)\n",
    "\n",
    "criterion = nn.CrossEntropyLoss()\n",
    "optimizer = optim.Adam(model.parameters(), lr=0.001)\n",
    "\n",
    "device = torch.device(\"cuda\" if torch.cuda.is_available() else \"cpu\")  # 检查是否有可用的 GPU\n",
    "model.to(device)  # 将模型移动到对应的设备\n",
    "\n",
    "for epoch in range(num_epochs):\n",
    "  model.train()  # 将模型设置为训练模式\n",
    "  for i, (inputs, targets) in enumerate(train_dataloader):\n",
    "    inputs, targets = inputs.to(device), targets.to(device)  # 将输入和标签移动到对应的设备\n",
    "    optimizer.zero_grad()  # 清零优化器梯度\n",
    "    # 前向传播和计算损失\n",
    "    outputs = model(inputs)\n",
    "    print(outputs.shape)\n",
    "    print(targets.shape)\n",
    "    loss = criterion(outputs, targets)\n",
    "        \n",
    "    # 反向传播和优化\n",
    "    loss.backward()\n",
    "    optimizer.step()\n",
    "    \n",
    "    # 打印训练信息\n",
    "    if epoch % 5 == 0:\n",
    "      print('Epoch [{}/{}], Step [{}/{}], Loss: {:.4f}'.format(epoch + 1, num_epochs, i + 1, len(train_dataloader), loss.item()))"
   ]
  }
 ],
 "metadata": {
  "kernelspec": {
   "display_name": "base",
   "language": "python",
   "name": "python3"
  },
  "language_info": {
   "codemirror_mode": {
    "name": "ipython",
    "version": 3
   },
   "file_extension": ".py",
   "mimetype": "text/x-python",
   "name": "python",
   "nbconvert_exporter": "python",
   "pygments_lexer": "ipython3",
   "version": "3.8.5"
  },
  "orig_nbformat": 4
 },
 "nbformat": 4,
 "nbformat_minor": 2
}
